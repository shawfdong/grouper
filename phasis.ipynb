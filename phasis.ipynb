{
 "cells": [
  {
   "cell_type": "code",
   "execution_count": 4,
   "id": "5d052120-ee64-405d-8c9f-b1bc0506a483",
   "metadata": {},
   "outputs": [],
   "source": [
    "import configparser\n",
    "import requests\n",
    "import json"
   ]
  },
  {
   "cell_type": "code",
   "execution_count": 5,
   "id": "3f76d511-c2b2-4e05-8b0f-f8fdbb33f94e",
   "metadata": {},
   "outputs": [],
   "source": [
    "config = configparser.ConfigParser()\n",
    "config.read('grouper.ini')\n",
    "grouper_client = config['ws']['CLIENT']\n",
    "grouper_password = config['ws']['PASSWORD']"
   ]
  },
  {
   "cell_type": "code",
   "execution_count": 6,
   "id": "a843db08-1f48-43a4-94a0-bac98434144a",
   "metadata": {},
   "outputs": [],
   "source": [
    "data = {'grant_type': 'client_credentials',\n",
    "        'scope': 'grouper-ws',\n",
    "        'client_id': grouper_client,\n",
    "        'client_secret': grouper_password}\n",
    "response = requests.post('https://login.lbl.gov/c2id/token', data=data)\n",
    "access_token = response.json()['access_token']"
   ]
  },
  {
   "cell_type": "code",
   "execution_count": 7,
   "id": "4ddfc2d1-4d81-4a76-ac40-2487899d94cf",
   "metadata": {},
   "outputs": [],
   "source": [
    "g = 'phasis'\n",
    "\n",
    "add_member_request = {\n",
    "    \"replaceAllExisting\": \"T\",\n",
    "    \"wsGroupLookup\": {\n",
    "        \"groupName\": f\"org:Operations:Information Technology:HPCS:app:Google Groups:{g}-announce\"\n",
    "    }   \n",
    "}\n",
    "\n",
    "subject_lookups = []\n",
    "\n",
    "with open('phasis-announce.csv', 'r') as f:\n",
    "    for line in f:\n",
    "        email = line.split(',')[0]\n",
    "        subject_lookups.append({'subjectIdentifier': email, 'subjectSourceId': 'people'})\n",
    "\n",
    "add_member_request[\"subjectLookups\"] = subject_lookups\n",
    "rest_request = {\"WsRestAddMemberRequest\": add_member_request}"
   ]
  },
  {
   "cell_type": "code",
   "execution_count": 8,
   "id": "caa87e5d-6229-477b-843c-10081a569504",
   "metadata": {},
   "outputs": [
    {
     "name": "stdout",
     "output_type": "stream",
     "text": [
      "<Response [500]>\n"
     ]
    }
   ],
   "source": [
    "url = 'https://identity.lbl.gov/grouper-ws/servicesRest/v2_4_000/groups'\n",
    "my_headers = {'Authorization' : f'Bearer {access_token}'}\n",
    "response = requests.put(url, headers=my_headers, json=rest_request)\n",
    "print(response)"
   ]
  },
  {
   "cell_type": "code",
   "execution_count": 9,
   "id": "828688f5-fbf1-4022-aaef-3cac7bcbcedd",
   "metadata": {},
   "outputs": [
    {
     "name": "stdout",
     "output_type": "stream",
     "text": [
      "HOldag@lbl.gov\n"
     ]
    }
   ],
   "source": [
    "if response.status_code == 500:\n",
    "    res = response.json()\n",
    "    for result in res['WsAddMemberResults']['results']:\n",
    "        if result['resultMetadata']['success'] == 'F':\n",
    "            email = result['wsSubject']['id']\n",
    "            print(email)"
   ]
  },
  {
   "cell_type": "code",
   "execution_count": null,
   "id": "20654a8a-cb22-4983-be86-bb4c85f140b0",
   "metadata": {},
   "outputs": [],
   "source": []
  }
 ],
 "metadata": {
  "kernelspec": {
   "display_name": "Python 3 (ipykernel)",
   "language": "python",
   "name": "python3"
  },
  "language_info": {
   "codemirror_mode": {
    "name": "ipython",
    "version": 3
   },
   "file_extension": ".py",
   "mimetype": "text/x-python",
   "name": "python",
   "nbconvert_exporter": "python",
   "pygments_lexer": "ipython3",
   "version": "3.8.5"
  }
 },
 "nbformat": 4,
 "nbformat_minor": 5
}

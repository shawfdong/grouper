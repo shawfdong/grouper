{
 "cells": [
  {
   "cell_type": "code",
   "execution_count": 1,
   "id": "24b9af0a-b1ef-4ccd-961e-e0616d1c45ac",
   "metadata": {},
   "outputs": [],
   "source": [
    "import configparser\n",
    "import requests\n",
    "import json"
   ]
  },
  {
   "cell_type": "code",
   "execution_count": 2,
   "id": "bb886be3-1f13-445a-98c3-1f70e83d2f10",
   "metadata": {},
   "outputs": [],
   "source": [
    "config = configparser.ConfigParser()\n",
    "config.read('grouper.ini')\n",
    "grouper_client = config['ws']['CLIENT']\n",
    "grouper_password = config['ws']['PASSWORD']"
   ]
  },
  {
   "cell_type": "code",
   "execution_count": 3,
   "id": "a0fa2c4e-f1bd-4e37-b96a-04475407551a",
   "metadata": {},
   "outputs": [],
   "source": [
    "data = {'grant_type': 'client_credentials',\n",
    "        'scope': 'grouper-ws',\n",
    "        'client_id': grouper_client,\n",
    "        'client_secret': grouper_password}\n",
    "response = requests.post('https://login.lbl.gov/c2id/token', data=data)\n",
    "access_token = response.json()['access_token']"
   ]
  },
  {
   "cell_type": "code",
   "execution_count": 4,
   "id": "0044a616-ff56-47ea-9412-c88ff7327af3",
   "metadata": {},
   "outputs": [],
   "source": [
    "g = 'savio'"
   ]
  },
  {
   "cell_type": "code",
   "execution_count": 7,
   "id": "8b84a179-5a93-4475-9017-8b4be8bde99d",
   "metadata": {},
   "outputs": [],
   "source": [
    "delete_member_request = {\n",
    "    \"wsGroupLookup\": {\n",
    "        \"groupName\": f\"org:Operations:Information Technology:HPCS:app:Google Groups:{g}-announce\"\n",
    "    }   \n",
    "}\n",
    "\n",
    "subject_lookups = []\n",
    "\n",
    "emails = (\"okie@berkeley.edu\", \"jennamartin@berkeley.edu\")\n",
    "for email in emails:\n",
    "    subject_lookups.append({'subjectIdentifier': email})\n",
    "\n",
    "delete_member_request[\"subjectLookups\"] = subject_lookups\n",
    "rest_request = {\"WsRestDeleteMemberRequest\": delete_member_request}"
   ]
  },
  {
   "cell_type": "code",
   "execution_count": 8,
   "id": "953fa139-0f93-4d44-afa4-4b7db524535c",
   "metadata": {},
   "outputs": [
    {
     "name": "stdout",
     "output_type": "stream",
     "text": [
      "<Response [200]>\n"
     ]
    }
   ],
   "source": [
    "url = 'https://identity.lbl.gov/grouper-ws/servicesRest/v2_4_000/groups'\n",
    "my_headers = {'Authorization' : f'Bearer {access_token}'}\n",
    "response = requests.put(url, headers=my_headers, json=rest_request)\n",
    "print(response)"
   ]
  },
  {
   "cell_type": "code",
   "execution_count": 9,
   "id": "941bbefe-f69a-4f31-a3d3-1d4522a4da79",
   "metadata": {},
   "outputs": [
    {
     "data": {
      "text/plain": [
       "{'WsDeleteMemberResults': {'resultMetadata': {'success': 'T',\n",
       "   'resultCode': 'SUCCESS',\n",
       "   'resultMessage': 'Success for: clientVersion: 2.4.0, wsGroupLookup: WsGroupLookup[pitGroups=[],groupName=org:Operations:Information Technology:HPCS:app:Google Groups:savio-announce], subjectLookups: Array size: 2: [0]: WsSubjectLookup[subjectIdentifier=okie@berkeley.edu]\\n[1]: WsSubjectLookup[sub...\\n, actAsSubject: null, fieldName: null, txType: NONE\\n, params: null'},\n",
       "  'wsGroup': {'displayExtension': 'savio-announce',\n",
       "   'extension': 'savio-announce',\n",
       "   'displayName': 'org:Operations:Information Technology:HPCS:app:Google Groups:savio-announce',\n",
       "   'name': 'org:Operations:Information Technology:HPCS:app:Google Groups:savio-announce',\n",
       "   'typeOfGroup': 'group',\n",
       "   'idIndex': '34581',\n",
       "   'uuid': 'fc6a1fe8cbb74bf09b250f39b5eaec83'},\n",
       "  'responseMetadata': {'serverVersion': '2.4.0', 'millis': '1907'},\n",
       "  'results': [{'resultMetadata': {'success': 'T', 'resultCode': 'SUCCESS'},\n",
       "    'wsSubject': {'sourceId': 'hpcs',\n",
       "     'identifierLookup': 'okie@berkeley.edu',\n",
       "     'success': 'T',\n",
       "     'name': 'ErikaOki (okie)',\n",
       "     'resultCode': 'SUCCESS',\n",
       "     'id': 'b9c2709e-b62f-1039-9502-cfd3402db34a'}},\n",
       "   {'resultMetadata': {'success': 'T',\n",
       "     'resultCode': 'SUCCESS_WASNT_IMMEDIATE',\n",
       "     'resultMessage': \"Subject: WsSubjectLookup[\\n  cause=edu.internet2.middleware.subject.SubjectNotUniqueException: found multiple matching subjects: 2, 'jennamartin@berkeley.edu',\\n  subjectFindResult=SUBJECT_DUPLICATE,\\n  memberFindResult=INVALID_QUERY,subjectIdentifier=jennamartin@berkeley.edu] had problems: SUBJECT_DUPLICATE\"},\n",
       "    'wsSubject': {'id': 'jennamartin@berkeley.edu'}}]}}"
      ]
     },
     "execution_count": 9,
     "metadata": {},
     "output_type": "execute_result"
    }
   ],
   "source": [
    "response.json()"
   ]
  },
  {
   "cell_type": "code",
   "execution_count": null,
   "id": "1c233020-fdf9-4ac1-be97-1b7a42a3338a",
   "metadata": {},
   "outputs": [],
   "source": []
  }
 ],
 "metadata": {
  "kernelspec": {
   "display_name": "Python 3 (ipykernel)",
   "language": "python",
   "name": "python3"
  },
  "language_info": {
   "codemirror_mode": {
    "name": "ipython",
    "version": 3
   },
   "file_extension": ".py",
   "mimetype": "text/x-python",
   "name": "python",
   "nbconvert_exporter": "python",
   "pygments_lexer": "ipython3",
   "version": "3.8.5"
  }
 },
 "nbformat": 4,
 "nbformat_minor": 5
}

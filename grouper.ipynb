{
 "cells": [
  {
   "cell_type": "code",
   "execution_count": 1,
   "id": "ab7211bd-fff1-438a-95c8-1dfa784d5bd3",
   "metadata": {},
   "outputs": [],
   "source": [
    "import configparser\n",
    "import requests\n",
    "import json"
   ]
  },
  {
   "cell_type": "code",
   "execution_count": 2,
   "id": "91dc6cf3-2782-46bd-b507-ebacf19046de",
   "metadata": {},
   "outputs": [],
   "source": [
    "config = configparser.ConfigParser()\n",
    "config.read('grouper.ini')\n",
    "grouper_client = config['ws']['CLIENT']\n",
    "grouper_password = config['ws']['PASSWORD']"
   ]
  },
  {
   "cell_type": "code",
   "execution_count": 3,
   "id": "4ac85755-d8da-4eae-9a03-440058a0e04b",
   "metadata": {},
   "outputs": [],
   "source": [
    "data = {'grant_type': 'client_credentials',\n",
    "        'scope': 'grouper-ws',\n",
    "        'client_id': grouper_client,\n",
    "        'client_secret': grouper_password}\n",
    "response = requests.post('https://login.lbl.gov/c2id/token', data=data)\n",
    "access_token = response.json()['access_token']"
   ]
  },
  {
   "cell_type": "code",
   "execution_count": 4,
   "id": "c8cdbd80-6bd3-4243-958d-2251bea20ee5",
   "metadata": {},
   "outputs": [],
   "source": [
    "g = 'catamount'"
   ]
  },
  {
   "cell_type": "code",
   "execution_count": 5,
   "id": "36b38667-580c-4bd4-b34e-61ea81852f53",
   "metadata": {},
   "outputs": [],
   "source": [
    "add_member_request = {\n",
    "    \"replaceAllExisting\": \"T\",\n",
    "    \"wsGroupLookup\": {\n",
    "        \"groupName\": f\"org:Operations:Information Technology:HPCS:app:Google Groups:{g}-announce\"\n",
    "    }   \n",
    "}\n",
    "\n",
    "subject_lookups = []\n",
    "\n",
    "with open(f'{g}-announce.txt', 'r') as f:\n",
    "    for line in f:\n",
    "        email = line.strip()\n",
    "        if email[-8:] == '@lbl.gov':\n",
    "            subject_lookups.append({'subjectIdentifier': email, 'subjectSourceId': 'people'})\n",
    "        else:\n",
    "            subject_lookups.append({'subjectIdentifier': email, 'subjectSourceId': 'hpcs'})\n",
    "\n",
    "add_member_request[\"subjectLookups\"] = subject_lookups\n",
    "rest_request = {\"WsRestAddMemberRequest\": add_member_request}"
   ]
  },
  {
   "cell_type": "code",
   "execution_count": 6,
   "id": "057455dd-9d32-41b3-aa82-c41f955d7aad",
   "metadata": {},
   "outputs": [
    {
     "name": "stdout",
     "output_type": "stream",
     "text": [
      "<Response [500]>\n"
     ]
    }
   ],
   "source": [
    "url = 'https://identity.lbl.gov/grouper-ws/servicesRest/v2_4_000/groups'\n",
    "my_headers = {'Authorization' : f'Bearer {access_token}'}\n",
    "response = requests.put(url, headers=my_headers, json=rest_request)\n",
    "print(response)"
   ]
  },
  {
   "cell_type": "code",
   "execution_count": 7,
   "id": "ca1f633b-927b-484d-8341-9b3f5230fe32",
   "metadata": {},
   "outputs": [
    {
     "name": "stdout",
     "output_type": "stream",
     "text": [
      "<Response [500]>\n"
     ]
    }
   ],
   "source": [
    "if response.status_code == 500:\n",
    "    res = response.json()\n",
    "    add_member_request = {\n",
    "        \"replaceAllExisting\": \"F\",\n",
    "        \"wsGroupLookup\": {\n",
    "            \"groupName\": f\"org:Operations:Information Technology:HPCS:app:Google Groups:{g}-announce\"\n",
    "        }   \n",
    "    }\n",
    "\n",
    "    subject_lookups = []\n",
    "\n",
    "    for result in res['WsAddMemberResults']['results']:\n",
    "        if result['resultMetadata']['success'] == 'F':\n",
    "            email = result['wsSubject']['id']\n",
    "            subject_lookups.append({'subjectIdentifier': email, 'subjectSourceId': 'external-email'})\n",
    "        \n",
    "    add_member_request[\"subjectLookups\"] = subject_lookups\n",
    "    rest_request = {\"WsRestAddMemberRequest\": add_member_request}\n",
    "\n",
    "    response = requests.put(url, headers=my_headers, json=rest_request)\n",
    "    print(response)"
   ]
  },
  {
   "cell_type": "code",
   "execution_count": 8,
   "id": "0ac2206e-50cf-4163-add3-4dd746a69720",
   "metadata": {},
   "outputs": [
    {
     "name": "stdout",
     "output_type": "stream",
     "text": [
      "trgordillo@lbl.gov\n"
     ]
    }
   ],
   "source": [
    "if response.status_code == 500:\n",
    "    res = response.json()\n",
    "    for result in res['WsAddMemberResults']['results']:\n",
    "        if result['resultMetadata']['success'] == 'F':\n",
    "            email = result['wsSubject']['id']\n",
    "            print(email)"
   ]
  },
  {
   "cell_type": "code",
   "execution_count": null,
   "id": "3e571c55-6adf-44c5-9b5f-7863823fabfd",
   "metadata": {},
   "outputs": [],
   "source": []
  }
 ],
 "metadata": {
  "kernelspec": {
   "display_name": "Python 3 (ipykernel)",
   "language": "python",
   "name": "python3"
  },
  "language_info": {
   "codemirror_mode": {
    "name": "ipython",
    "version": 3
   },
   "file_extension": ".py",
   "mimetype": "text/x-python",
   "name": "python",
   "nbconvert_exporter": "python",
   "pygments_lexer": "ipython3",
   "version": "3.8.5"
  }
 },
 "nbformat": 4,
 "nbformat_minor": 5
}
